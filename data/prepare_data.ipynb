{
 "cells": [
  {
   "cell_type": "code",
   "execution_count": 1,
   "metadata": {},
   "outputs": [],
   "source": [
    "import re\n",
    "import zhon.hanzi\n",
    "import json\n",
    "import sys\n",
    "sys.path.append(\"../\")\n",
    "from LOCALPATH import WORKS_PATH"
   ]
  },
  {
   "cell_type": "code",
   "execution_count": 2,
   "metadata": {},
   "outputs": [
    {
     "data": {
      "text/plain": [
       "{'Id': 10235,\n",
       " 'Title': '盘铭',\n",
       " 'Dynasty': '商',\n",
       " 'Author': '商汤',\n",
       " 'AuthorId': 10062,\n",
       " 'Kind': '文',\n",
       " 'Content': '苟日新，日日新，又日新。',\n",
       " 'Translation': '',\n",
       " 'Comment': '',\n",
       " 'Intro': '此文选自中国儒家经典《大学》，相传为商汤王刻在澡盆上的箴言，展示了一种革新的姿态，鞭策自己弃旧图新。',\n",
       " 'Annotation': '汤：即成汤，商朝的开国君主。盘铭是刻在器皿上警醒自己的箴言。\\r\\n盘：这里指商汤的洗澡用具。',\n",
       " 'PostsCount': 79}"
      ]
     },
     "execution_count": 2,
     "metadata": {},
     "output_type": "execute_result"
    }
   ],
   "source": [
    "works = json.load(open(WORKS_PATH))\n",
    "works[0]"
   ]
  },
  {
   "cell_type": "code",
   "execution_count": 3,
   "metadata": {},
   "outputs": [
    {
     "name": "stdout",
     "output_type": "stream",
     "text": [
      "10961\n",
      "4039525\n"
     ]
    }
   ],
   "source": [
    "# ct表示content-translation，即文言文——简体中文翻译\n",
    "# c表示只有content，即文言文\n",
    "out_ct = []\n",
    "out_c = []\n",
    "for item in works:\n",
    "    k = item['Kind']\n",
    "    c = item['Content']\n",
    "    t = item['Translation']\n",
    "    \n",
    "    if k not in [\"诗\",\"词\",\"曲\"]:continue\n",
    "\n",
    "    if c == None or len(c) <= 1 or c.find(\"【\") != -1:continue\n",
    "    c_list = c.split(\"\\r\\n\")\n",
    "\n",
    "    if t == None or len(t.strip()) == 0:\n",
    "        t_list = []\n",
    "    else:\n",
    "        t_list = t.split(\"\\r\\n\")\n",
    "\n",
    "    # 根据\\r\\n可切分：ct\n",
    "    if len(c_list) == len(t_list):\n",
    "        out_ct.extend([{\"content\":x.strip().replace(\"“\",\"\").replace(\"”\",\"\"),\n",
    "                        \"translation\":y.strip().replace(\"“\",\"\").replace(\"”\",\"\"),\n",
    "                        # \"author\":item[\"Author\"],\n",
    "                        # \"title\":item['Title']\n",
    "                        } \n",
    "                        for x,y in zip(c_list,t_list)])\n",
    "    # 直接切分\n",
    "    new_c = c.replace(\"\\r\\n\",\"\").replace(\"\\n\",\"\").replace(\" \",\"\")\n",
    "    new_c_list = re.findall(zhon.hanzi.sentence, new_c)\n",
    "    c_dict_list = list(map(lambda x:{\"content\":x.strip().replace(\"“\",\"\").replace(\"”\",\"\"),\n",
    "                                        \"author\":item[\"Author\"],\n",
    "                                        # \"title\":item['Title']\n",
    "                                        },new_c_list))\n",
    "    out_c.extend(c_dict_list)\n",
    "\n",
    "\n",
    "print(len(out_ct))\n",
    "print(len(out_c))"
   ]
  },
  {
   "cell_type": "code",
   "execution_count": 4,
   "metadata": {},
   "outputs": [],
   "source": [
    "st = 0\n",
    "with open('ct_data.jsonl', 'w', encoding='utf-8') as f:\n",
    "    for item in out_ct:\n",
    "        json_str = json.dumps(item, ensure_ascii=False)\n",
    "        if st == 0:\n",
    "            f.write(json_str)\n",
    "        else:\n",
    "            f.write(\"\\n\" + json_str)\n",
    "        st += 1"
   ]
  },
  {
   "cell_type": "code",
   "execution_count": 5,
   "metadata": {},
   "outputs": [],
   "source": [
    "st = 0\n",
    "with open('c_data.jsonl', 'w', encoding='utf-8') as f:\n",
    "    for item in out_c:\n",
    "        json_str = json.dumps(item, ensure_ascii=False)\n",
    "        if st == 0:\n",
    "            f.write(json_str)\n",
    "        else:\n",
    "            f.write(\"\\n\" + json_str)\n",
    "        st += 1"
   ]
  },
  {
   "cell_type": "code",
   "execution_count": 6,
   "metadata": {},
   "outputs": [
    {
     "data": {
      "text/plain": [
       "267390"
      ]
     },
     "execution_count": 6,
     "metadata": {},
     "output_type": "execute_result"
    }
   ],
   "source": [
    "author = \"李白 杜甫 苏轼 王维 杜牧 陆游 李煜 元稹 韩愈 岑参 齐己 贾岛 柳永 曹操 李贺 曹植 张籍 孟郊 皎然 许浑 罗隐 贯休 韦庄 屈原 王勃 张祜 王建 晏殊 岳飞 姚合 卢纶 秦观 钱起 朱熹 韩偓 高适 方干 李峤 赵嘏 贺铸 郑谷 郑燮 张说 张炎 白居易 辛弃疾 李清照 刘禹锡 李商隐 陶渊明 孟浩然 柳宗元 王安石 欧阳修 韦应物 温庭筠 刘长卿 王昌龄 杨万里 诸葛亮 范仲淹 陆龟蒙 晏几道 周邦彦 杜荀鹤 吴文英 马致远 皮日休 左丘明 张九龄 权德舆 黄庭坚 司马迁 皇甫冉 卓文君 文天祥 刘辰翁 陈子昂 纳兰性德\"\n",
    "author_list = author.split(\" \")\n",
    "select_c = []\n",
    "for item in out_c:\n",
    "    if item[\"author\"] in author_list:\n",
    "        select_c.append(item)\n",
    "len(select_c)"
   ]
  },
  {
   "cell_type": "code",
   "execution_count": 7,
   "metadata": {},
   "outputs": [],
   "source": [
    "st = 0\n",
    "with open('select_c_data.jsonl', 'w', encoding='utf-8') as f:\n",
    "    for item in select_c:\n",
    "        json_str = json.dumps(item, ensure_ascii=False)\n",
    "        if st == 0:\n",
    "            f.write(json_str)\n",
    "        else:\n",
    "            f.write(\"\\n\" + json_str)\n",
    "        st += 1"
   ]
  }
 ],
 "metadata": {
  "kernelspec": {
   "display_name": "img2poem",
   "language": "python",
   "name": "python3"
  },
  "language_info": {
   "codemirror_mode": {
    "name": "ipython",
    "version": 3
   },
   "file_extension": ".py",
   "mimetype": "text/x-python",
   "name": "python",
   "nbconvert_exporter": "python",
   "pygments_lexer": "ipython3",
   "version": "3.10.13"
  }
 },
 "nbformat": 4,
 "nbformat_minor": 2
}
